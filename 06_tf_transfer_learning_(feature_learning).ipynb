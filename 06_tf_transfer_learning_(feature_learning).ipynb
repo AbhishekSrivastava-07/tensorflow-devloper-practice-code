{
 "cells": [
  {
   "cell_type": "markdown",
   "metadata": {
    "id": "t-DYWB-7Jtt6"
   },
   "source": [
    "# feature extraction"
   ]
  },
  {
   "cell_type": "markdown",
   "metadata": {
    "id": "lVYtQwsVq6ta"
   },
   "source": [
    "- this means leveraginng working model adn learn patterns for our own problems.\n",
    "\n",
    "`benefits:`\n",
    "- can leverage existing NN architecture proven too work on problemssimilar to our own data\n",
    "- can leverage already learned patterns on similar data to ur own that we can adapt those pattern to our own data"
   ]
  },
  {
   "cell_type": "code",
   "execution_count": null,
   "metadata": {
    "colab": {
     "base_uri": "https://localhost:8080/"
    },
    "id": "D4MUxFeVswqx",
    "outputId": "6af1c5f6-c460-4423-ba08-61c11853490d"
   },
   "outputs": [
    {
     "name": "stdout",
     "output_type": "stream",
     "text": [
      "Mon Sep  6 04:33:51 2021       \n",
      "+-----------------------------------------------------------------------------+\n",
      "| NVIDIA-SMI 470.63.01    Driver Version: 460.32.03    CUDA Version: 11.2     |\n",
      "|-------------------------------+----------------------+----------------------+\n",
      "| GPU  Name        Persistence-M| Bus-Id        Disp.A | Volatile Uncorr. ECC |\n",
      "| Fan  Temp  Perf  Pwr:Usage/Cap|         Memory-Usage | GPU-Util  Compute M. |\n",
      "|                               |                      |               MIG M. |\n",
      "|===============================+======================+======================|\n",
      "|   0  Tesla K80           Off  | 00000000:00:04.0 Off |                    0 |\n",
      "| N/A   55C    P8    32W / 149W |      0MiB / 11441MiB |      0%      Default |\n",
      "|                               |                      |                  N/A |\n",
      "+-------------------------------+----------------------+----------------------+\n",
      "                                                                               \n",
      "+-----------------------------------------------------------------------------+\n",
      "| Processes:                                                                  |\n",
      "|  GPU   GI   CI        PID   Type   Process name                  GPU Memory |\n",
      "|        ID   ID                                                   Usage      |\n",
      "|=============================================================================|\n",
      "|  No running processes found                                                 |\n",
      "+-----------------------------------------------------------------------------+\n"
     ]
    }
   ],
   "source": [
    "!nvidia-smi"
   ]
  },
  {
   "cell_type": "code",
   "execution_count": 1,
   "metadata": {
    "colab": {
     "base_uri": "https://localhost:8080/"
    },
    "id": "ISnRvlSHs0f8",
    "outputId": "fa4251fc-bf4c-4b9e-fff7-2553d377b977"
   },
   "outputs": [
    {
     "name": "stdout",
     "output_type": "stream",
     "text": [
      "--2021-09-09 11:00:55--  https://storage.googleapis.com/ztm_tf_course/food_vision/10_food_classes_10_percent.zip\n",
      "Resolving storage.googleapis.com (storage.googleapis.com)... 172.217.214.128, 172.253.114.128, 108.177.111.128, ...\n",
      "Connecting to storage.googleapis.com (storage.googleapis.com)|172.217.214.128|:443... connected.\n",
      "HTTP request sent, awaiting response... 200 OK\n",
      "Length: 168546183 (161M) [application/zip]\n",
      "Saving to: ‘10_food_classes_10_percent.zip’\n",
      "\n",
      "10_food_classes_10_ 100%[===================>] 160.74M   109MB/s    in 1.5s    \n",
      "\n",
      "2021-09-09 11:00:56 (109 MB/s) - ‘10_food_classes_10_percent.zip’ saved [168546183/168546183]\n",
      "\n"
     ]
    }
   ],
   "source": [
    "# downloading and becoming one with data \n",
    "# dataset used: 10% 10_food_classes_from_food\n",
    "\n",
    "import zipfile\n",
    "!wget https://storage.googleapis.com/ztm_tf_course/food_vision/10_food_classes_10_percent.zip\n"
   ]
  },
  {
   "cell_type": "code",
   "execution_count": 2,
   "metadata": {
    "colab": {
     "base_uri": "https://localhost:8080/"
    },
    "id": "qD83jTOstWSZ",
    "outputId": "a5c94fec-89ea-496e-b12b-358d15e45317"
   },
   "outputs": [
    {
     "data": {
      "text/plain": [
       "<bound method ZipFile.close of <zipfile.ZipFile filename='/content/10_food_classes_10_percent.zip' mode='r'>>"
      ]
     },
     "execution_count": 2,
     "metadata": {},
     "output_type": "execute_result"
    }
   ],
   "source": [
    "# unzip the downloadied file\n",
    "zip_ref=zipfile.ZipFile('/content/10_food_classes_10_percent.zip')\n",
    "zip_ref.extractall()\n",
    "zip_ref.close"
   ]
  },
  {
   "cell_type": "code",
   "execution_count": null,
   "metadata": {
    "colab": {
     "base_uri": "https://localhost:8080/"
    },
    "id": "ATxBtTQnuorq",
    "outputId": "e343b3fa-6844-4e7d-8473-aabf1994c178"
   },
   "outputs": [
    {
     "name": "stdout",
     "output_type": "stream",
     "text": [
      "there are2 dirctories and 0 images in 10_food_classes_10_percent.\n",
      "there are10 dirctories and 0 images in 10_food_classes_10_percent/train.\n",
      "there are0 dirctories and 75 images in 10_food_classes_10_percent/train/sushi.\n",
      "there are0 dirctories and 75 images in 10_food_classes_10_percent/train/fried_rice.\n",
      "there are0 dirctories and 75 images in 10_food_classes_10_percent/train/ramen.\n",
      "there are0 dirctories and 75 images in 10_food_classes_10_percent/train/pizza.\n",
      "there are0 dirctories and 75 images in 10_food_classes_10_percent/train/chicken_wings.\n",
      "there are0 dirctories and 75 images in 10_food_classes_10_percent/train/hamburger.\n",
      "there are0 dirctories and 75 images in 10_food_classes_10_percent/train/steak.\n",
      "there are0 dirctories and 75 images in 10_food_classes_10_percent/train/chicken_curry.\n",
      "there are0 dirctories and 75 images in 10_food_classes_10_percent/train/ice_cream.\n",
      "there are0 dirctories and 75 images in 10_food_classes_10_percent/train/grilled_salmon.\n",
      "there are10 dirctories and 0 images in 10_food_classes_10_percent/test.\n",
      "there are0 dirctories and 250 images in 10_food_classes_10_percent/test/sushi.\n",
      "there are0 dirctories and 250 images in 10_food_classes_10_percent/test/fried_rice.\n",
      "there are0 dirctories and 250 images in 10_food_classes_10_percent/test/ramen.\n",
      "there are0 dirctories and 250 images in 10_food_classes_10_percent/test/pizza.\n",
      "there are0 dirctories and 250 images in 10_food_classes_10_percent/test/chicken_wings.\n",
      "there are0 dirctories and 250 images in 10_food_classes_10_percent/test/hamburger.\n",
      "there are0 dirctories and 250 images in 10_food_classes_10_percent/test/steak.\n",
      "there are0 dirctories and 250 images in 10_food_classes_10_percent/test/chicken_curry.\n",
      "there are0 dirctories and 250 images in 10_food_classes_10_percent/test/ice_cream.\n",
      "there are0 dirctories and 250 images in 10_food_classes_10_percent/test/grilled_salmon.\n"
     ]
    }
   ],
   "source": [
    "import os\n",
    "\n",
    "for dirpath, dirnames, filenames in os.walk('10_food_classes_10_percent'):\n",
    "  print(f'there are{len(dirnames)} dirctories and {len(filenames)} images in {dirpath}.' )"
   ]
  },
  {
   "cell_type": "markdown",
   "metadata": {
    "id": "F9NeVVWwvyEE"
   },
   "source": [
    "- from number of images in training path we can observe that we are using only 10% of the total images in original dataset i.e. 75 in training folder"
   ]
  },
  {
   "cell_type": "markdown",
   "metadata": {
    "id": "E1oQTi9nwVYt"
   },
   "source": [
    "### using data loaders ( preparing the data)\n",
    " we will use ImageDataGenerator class to load in our images in batches."
   ]
  },
  {
   "cell_type": "code",
   "execution_count": 12,
   "metadata": {
    "colab": {
     "base_uri": "https://localhost:8080/"
    },
    "id": "2YVR75DZwuS4",
    "outputId": "40279360-9dc6-4179-a476-28cd4195a05d"
   },
   "outputs": [
    {
     "name": "stdout",
     "output_type": "stream",
     "text": [
      "training images:\n",
      "Found 750 images belonging to 10 classes.\n",
      "testing images:\n",
      "Found 2500 images belonging to 10 classes.\n"
     ]
    }
   ],
   "source": [
    "# setting data inpuuts\n",
    "from tensorflow.keras.preprocessing.image import ImageDataGenerator\n",
    "\n",
    "INPUT_SHAPE = (224, 224)\n",
    "BATCH_SIZE=32\n",
    "\n",
    "train_dir = '10_food_classes_10_percent/train/'\n",
    "test_dir = '10_food_classes_10_percent/test/'\n",
    "\n",
    "train_datagen = ImageDataGenerator(rescale=1/255.)\n",
    "test_datagen = ImageDataGenerator(rescale=1/255.)\n",
    "\n",
    "print('training images:')\n",
    "train_data_10_percent = train_datagen.flow_from_directory(train_dir,\n",
    "                                                          target_size=INPUT_SHAPE,\n",
    "                                                          batch_size=BATCH_SIZE,\n",
    "                                                          class_mode='categorical')\n",
    "\n",
    "print('testing images:')\n",
    "test_data=test_datagen.flow_from_directory(test_dir,\n",
    "                                                            target_size=INPUT_SHAPE,\n",
    "                                                            batch_size=BATCH_SIZE,\n",
    "                                                            class_mode='categorical')\n",
    "\n"
   ]
  },
  {
   "cell_type": "markdown",
   "metadata": {
    "id": "vhU-DWN8z31h"
   },
   "source": [
    "### callbacks:\n",
    "- callbacks are extra functionallity you can add to our model to be performed during or after training. some of most popular callbacks are:\n",
    "  - tracking experiment with `Tensorboard callback`\n",
    "  - model checkpoint with `Modelcheckpoint callbacks`\n",
    "  - stopping a mmodel from training (before it train too long and overfits) with `Early stopping callbacks`\n",
    "\n",
    "- [callbacks documentation](https://www.tensorflow.org/api_docs/python/tf/keras/callbacks)"
   ]
  },
  {
   "cell_type": "code",
   "execution_count": 20,
   "metadata": {
    "id": "7t1foQY3YrYY"
   },
   "outputs": [],
   "source": [
    "# craete tensorboard callbacks\n",
    "import datetime\n",
    "\n",
    "def create_tensorboard_callback(dir_name, experiment_name):\n",
    "  log_dir= dir_name + '/' + experiment_name + '/' + datetime.datetime.now().strftime('%Y%m5d-%H%M%S')\n",
    "  tensorboard_callbacks = tf.keras.callbacks.TensorBoard(log_dir=log_dir)\n",
    "  print(f'saving tensorboard log files to: {log_dir}')\n",
    "  return tensorboard_callbacks"
   ]
  },
  {
   "cell_type": "markdown",
   "metadata": {
    "id": "fBJBKSP0fk9v"
   },
   "source": [
    "### creating model using Tensorflow Hub\n",
    "tensorflow Hub is a repository of trained machine learning models. It is a place to find a plethora of prre-trained learning model (ready to apply and fine-tune for our own problem.)\n",
    "\n",
    "Now we're going to do similar process, except the majority of model's layers are going to come from Tensorflow Hub\n",
    "\n",
    "Site of tensorflow Hub is: http://tfhub.dev/\n",
    "\n",
    "Browsing the temssorflow Hub page and sorting for imiage classification, we found the following feature vector model link:\n",
    "efficientnet:  https://tfhub.dev/google/efficientnet/b0/feature-vector/1\n",
    "\n",
    "Resnet modedl: https://tfhub.dev/google/imagenet/resnet_v2_50/feature_vector/5"
   ]
  },
  {
   "cell_type": "markdown",
   "metadata": {
    "id": "9-pRo0RMAKw_"
   },
   "source": [
    "**📌Note:** always look does my problem exist on tensorrflow Hub"
   ]
  },
  {
   "cell_type": "code",
   "execution_count": 14,
   "metadata": {
    "id": "tD9eMOXpgorP"
   },
   "outputs": [],
   "source": [
    "# lets compare the following two model\n",
    "resnet_url = 'https://tfhub.dev/google/imagenet/resnet_v2_50/feature_vector/5'\n",
    "\n",
    "efficient_url = 'https://tfhub.dev/google/efficientnet/b0/feature-vector/1'\n"
   ]
  },
  {
   "cell_type": "code",
   "execution_count": 15,
   "metadata": {
    "id": "6aEhGrk9Abzn"
   },
   "outputs": [],
   "source": [
    "# import dependencies\n",
    "import tensorflow as tf\n",
    "import tensorflow_hub as hub\n",
    "from tensorflow.keras import layers"
   ]
  },
  {
   "cell_type": "code",
   "execution_count": 21,
   "metadata": {
    "id": "EKCFqOozArLA"
   },
   "outputs": [],
   "source": [
    "# lets create a model() function to create a model from a url\n",
    "def create_model(model_url, num_classes=10):\n",
    "  '''\n",
    "  takes a tensorflow hub url and create a keras sequential model with it.\n",
    "\n",
    "  Args: \n",
    "    model_url: tensorflow hub feature extraction URL.\n",
    "    num_classes: number of output neurons in the output layers.\n",
    "    should be equal to number of target classes, default 10.\n",
    "\n",
    "  returns:\n",
    "    An uncompiled keras Sequential model with model_url as feature extractor\n",
    "    layer and dednse output layers with num_classes output neurons\n",
    "  '''\n",
    "  # Download the pretrained model and save it as a keras layer\n",
    "  feature_extractor_layer = hub.KerasLayer(model_url,\n",
    "                                           trainable=False,  # freeze the already llearned patterns.\n",
    "                                           name='feature_extraction_layer',\n",
    "                                           input_shape=INPUT_SHAPE+(3,))\n",
    "\n",
    "  \n",
    "  # create our own model\n",
    "  model=tf.keras.Sequential([\n",
    "                             feature_extractor_layer,\n",
    "                             layers.Dense(num_classes, activation='softmax', name='output_layer')\n",
    "                             ])\n",
    "  return model"
   ]
  },
  {
   "cell_type": "markdown",
   "metadata": {
    "id": "FoukkRcVEVZo"
   },
   "source": [
    "#### creating and testing ResNet Tensorflow Hub Feature extraction model"
   ]
  },
  {
   "cell_type": "code",
   "execution_count": 22,
   "metadata": {
    "id": "eQf6m5TnElYK"
   },
   "outputs": [],
   "source": [
    "resnet_model=create_model(resnet_url,\n",
    "                          num_classes=train_data_10_percent.num_classes)\n",
    "# compiling our resnet model\n",
    "resnet_model.compile(loss='categorical_crossentropy',\n",
    "                     optimizer=tf.keras.optimizers.Adam(),\n",
    "                     metrics=['accuracy'])"
   ]
  },
  {
   "cell_type": "code",
   "execution_count": 24,
   "metadata": {
    "colab": {
     "base_uri": "https://localhost:8080/"
    },
    "id": "3VrbDxR691QF",
    "outputId": "d7f57ae8-1ba2-42e1-d94c-3688663a46ae"
   },
   "outputs": [
    {
     "name": "stdout",
     "output_type": "stream",
     "text": [
      "saving tensorboard log files to: tensorflow_hub/resnet50V2/2021095d-110637\n",
      "Epoch 1/5\n",
      "24/24 [==============================] - 57s 1s/step - loss: 2.0687 - accuracy: 0.3160 - val_loss: 1.2672 - val_accuracy: 0.5884\n",
      "Epoch 2/5\n",
      "24/24 [==============================] - 21s 908ms/step - loss: 0.9515 - accuracy: 0.7040 - val_loss: 0.8829 - val_accuracy: 0.7184\n",
      "Epoch 3/5\n",
      "24/24 [==============================] - 21s 912ms/step - loss: 0.6313 - accuracy: 0.8347 - val_loss: 0.7723 - val_accuracy: 0.7524\n",
      "Epoch 4/5\n",
      "24/24 [==============================] - 21s 896ms/step - loss: 0.4886 - accuracy: 0.8760 - val_loss: 0.7463 - val_accuracy: 0.7520\n",
      "Epoch 5/5\n",
      "24/24 [==============================] - 21s 911ms/step - loss: 0.3993 - accuracy: 0.9013 - val_loss: 0.6963 - val_accuracy: 0.7728\n"
     ]
    }
   ],
   "source": [
    "resnet_history = resnet_model.fit(train_data_10_percent,\n",
    "                                  epochs=5,\n",
    "                                  steps_per_epoch=len(train_data_10_percent),\n",
    "                                  validation_data=test_data,\n",
    "                                  validation_steps=len(test_data),\n",
    "                                  callbacks=[create_tensorboard_callback(dir_name='tensorflow_hub',\n",
    "                                                                         experiment_name='resnet50V2'\n",
    "                                                                         )])"
   ]
  },
  {
   "cell_type": "markdown",
   "metadata": {
    "id": "HAgQmqzKPt64"
   },
   "source": [
    "- Our transfer learning featureextractor model out performed ALL of the previous model we built by hand.\n",
    "- though we only used 10%of the data."
   ]
  },
  {
   "cell_type": "markdown",
   "metadata": {
    "id": "0eAjTmvcQqcX"
   },
   "source": [
    "##### Creating loss curves."
   ]
  },
  {
   "cell_type": "code",
   "execution_count": 37,
   "metadata": {
    "id": "PZxs9HdkQ17T"
   },
   "outputs": [],
   "source": [
    "import matplotlib.pyplot as plt\n",
    "\n",
    "def plot_loss_curves(history):\n",
    "  '''\n",
    "  returns seperate loss_curves for training and validation_data\n",
    "  '''\n",
    "  loss=history.history['loss']\n",
    "  val_loss=history.history['val_loss']\n",
    "\n",
    "  accuracy=history.history['accuracy']\n",
    "  val_accuracy=history.history['val_accuracy']\n",
    "\n",
    "  epochs=range(len(history.history['loss']))\n",
    "\n",
    "  # plot loss\n",
    "  plt.plot(epochs, loss, label='training_loss')\n",
    "  plt.plot(epochs, val_loss, label='validation_loss')\n",
    "  plt.title(\"loss\")\n",
    "  plt.xlabel(\"epochs\")\n",
    "  plt.legend()\n",
    "\n",
    "  # plot accuracy\n",
    "  plt.figure()\n",
    "  plt.plot(epochs, accuracy, label='training_accuracy')\n",
    "  plt.plot(epochs, val_accuracy, label='validation_accuracy')\n",
    "  plt.title(\"accuracy\")\n",
    "  plt.xlabel(\"epochs\")\n",
    "  plt.legend()\n"
   ]
  },
  {
   "cell_type": "code",
   "execution_count": 38,
   "metadata": {
    "colab": {
     "base_uri": "https://localhost:8080/",
     "height": 573
    },
    "id": "2SXdvM2UbpqX",
    "outputId": "094287a9-41e2-41a4-9af8-5bcacfbc3eb0"
   },
   "outputs": [
    {
     "data": {
      "image/png": "[encoded data removed]",
      "text/plain": [
       "<Figure size 432x288 with 1 Axes>"
      ]
     },
     "metadata": {
      "needs_background": "light"
     },
     "output_type": "display_data"
    },
    {
     "data": {
      "image/png": "[encoded data removed]",
      "text/plain": [
       "<Figure size 432x288 with 1 Axes>"
      ]
     },
     "metadata": {
      "needs_background": "light"
     },
     "output_type": "display_data"
    }
   ],
   "source": [
    "plot_loss_curves(resnet_history)"
   ]
  },
  {
   "cell_type": "code",
   "execution_count": 25,
   "metadata": {
    "colab": {
     "base_uri": "https://localhost:8080/"
    },
    "id": "mkgu8YYkH6o0",
    "outputId": "ffa78194-56b5-41e6-a268-bbd53509ab83"
   },
   "outputs": [
    {
     "name": "stdout",
     "output_type": "stream",
     "text": [
      "Model: \"sequential_2\"\n",
      "_________________________________________________________________\n",
      "Layer (type)                 Output Shape              Param #   \n",
      "=================================================================\n",
      "feature_extraction_layer (Ke (None, 2048)              23564800  \n",
      "_________________________________________________________________\n",
      "output_layer (Dense)         (None, 10)                20490     \n",
      "=================================================================\n",
      "Total params: 23,585,290\n",
      "Trainable params: 20,490\n",
      "Non-trainable params: 23,564,800\n",
      "_________________________________________________________________\n"
     ]
    }
   ],
   "source": [
    "resnet_model.summary()"
   ]
  },
  {
   "cell_type": "markdown",
   "metadata": {
    "id": "VQJ-7uMlH947"
   },
   "source": [
    "#### creating and testing EfficientNet80 Tensorflow Hub Feature Extraction model"
   ]
  },
  {
   "cell_type": "code",
   "execution_count": 44,
   "metadata": {
    "colab": {
     "base_uri": "https://localhost:8080/"
    },
    "id": "5egkqI2JciBe",
    "outputId": "82312575-55ec-4881-d7fb-cd488866e5bf"
   },
   "outputs": [
    {
     "name": "stdout",
     "output_type": "stream",
     "text": [
      "saving tensorboard log files to: tensorflow_hub/efficientnetb0/2021095d-122450\n",
      "Epoch 1/10\n",
      "24/24 [==============================] - 25s 895ms/step - loss: 1.7884 - accuracy: 0.4773 - val_loss: 1.2553 - val_accuracy: 0.7332\n",
      "Epoch 2/10\n",
      "24/24 [==============================] - 18s 790ms/step - loss: 1.0286 - accuracy: 0.7867 - val_loss: 0.8531 - val_accuracy: 0.8252\n",
      "Epoch 3/10\n",
      "24/24 [==============================] - 19s 805ms/step - loss: 0.7443 - accuracy: 0.8440 - val_loss: 0.6893 - val_accuracy: 0.8440\n",
      "Epoch 4/10\n",
      "24/24 [==============================] - 18s 782ms/step - loss: 0.6001 - accuracy: 0.8827 - val_loss: 0.6084 - val_accuracy: 0.8584\n",
      "Epoch 5/10\n",
      "24/24 [==============================] - 18s 773ms/step - loss: 0.5074 - accuracy: 0.8960 - val_loss: 0.5542 - val_accuracy: 0.8656\n",
      "Epoch 6/10\n",
      "24/24 [==============================] - 18s 785ms/step - loss: 0.4407 - accuracy: 0.9067 - val_loss: 0.5189 - val_accuracy: 0.8684\n",
      "Epoch 7/10\n",
      "24/24 [==============================] - 25s 1s/step - loss: 0.3905 - accuracy: 0.9187 - val_loss: 0.4920 - val_accuracy: 0.8708\n",
      "Epoch 8/10\n",
      "24/24 [==============================] - 18s 789ms/step - loss: 0.3469 - accuracy: 0.9307 - val_loss: 0.4731 - val_accuracy: 0.8744\n",
      "Epoch 9/10\n",
      "24/24 [==============================] - 18s 784ms/step - loss: 0.3112 - accuracy: 0.9440 - val_loss: 0.4582 - val_accuracy: 0.8756\n",
      "Epoch 10/10\n",
      "24/24 [==============================] - 18s 777ms/step - loss: 0.2818 - accuracy: 0.9547 - val_loss: 0.4441 - val_accuracy: 0.8792\n"
     ]
    }
   ],
   "source": [
    "\n",
    "# creating efficient feature extractor model\n",
    "efficient_model=create_model(model_url=efficient_url,\n",
    "                             num_classes=train_data_10_percent.num_classes)\n",
    "\n",
    "# comppiling efficient model\n",
    "efficient_model.compile(loss='categorical_crossentropy',\n",
    "                        optimizer=tf.keras.optimizers.Adam(),\n",
    "                        metrics=['accuracy'])\n",
    "\n",
    "# Fit efficient modedl to 10% of training data\n",
    "efficient_history=efficient_model.fit(train_data_10_percent,\n",
    "                                      epochs=10,\n",
    "                                      steps_per_epoch=len(train_data_10_percent),\n",
    "                                      validation_data=test_data,\n",
    "                                      validation_steps=len(test_data),\n",
    "                                      callbacks=[create_tensorboard_callback(dir_name='tensorflow_hub',\n",
    "                                                                             experiment_name='efficientnetb0')])"
   ]
  },
  {
   "cell_type": "code",
   "execution_count": 43,
   "metadata": {
    "colab": {
     "base_uri": "https://localhost:8080/",
     "height": 573
    },
    "id": "5BJqGt5Ffipv",
    "outputId": "f5b52dce-eda3-44a7-8608-af19998f3c0b"
   },
   "outputs": [
    {
     "data": {
      "image/png": "[encoded data removed]",
      "text/plain": [
       "<Figure size 432x288 with 1 Axes>"
      ]
     },
     "metadata": {
      "needs_background": "light"
     },
     "output_type": "display_data"
    },
    {
     "data": {
      "image/png": "[encoded data removed]",
      "text/plain": [
       "<Figure size 432x288 with 1 Axes>"
      ]
     },
     "metadata": {
      "needs_background": "light"
     },
     "output_type": "display_data"
    }
   ],
   "source": [
    "plot_loss_curves(efficient_history)"
   ]
  },
  {
   "cell_type": "code",
   "execution_count": 45,
   "metadata": {
    "colab": {
     "base_uri": "https://localhost:8080/"
    },
    "id": "hN5qBqMmhEYT",
    "outputId": "62c0b719-514f-405d-8bde-e15e16c1c6bf"
   },
   "outputs": [
    {
     "name": "stdout",
     "output_type": "stream",
     "text": [
      "Model: \"sequential_5\"\n",
      "_________________________________________________________________\n",
      "Layer (type)                 Output Shape              Param #   \n",
      "=================================================================\n",
      "feature_extraction_layer (Ke (None, 1280)              4049564   \n",
      "_________________________________________________________________\n",
      "output_layer (Dense)         (None, 10)                12810     \n",
      "=================================================================\n",
      "Total params: 4,062,374\n",
      "Trainable params: 12,810\n",
      "Non-trainable params: 4,049,564\n",
      "_________________________________________________________________\n"
     ]
    }
   ],
   "source": [
    "efficient_model.summary()"
   ]
  },
  {
   "cell_type": "code",
   "execution_count": null,
   "metadata": {
    "id": "DeDqtkFfhiYG"
   },
   "outputs": [],
   "source": [
    "resnet_model.summary()"
   ]
  },
  {
   "cell_type": "markdown",
   "metadata": {
    "id": "fnxoihRgiXzA"
   },
   "source": []
  }
 ],
 "metadata": {
  "accelerator": "GPU",
  "colab": {
   "collapsed_sections": [],
   "name": "04_tf_transfer learning (feature learning).ipynb",
   "provenance": []
  },
  "kernelspec": {
   "display_name": "Python 3",
   "language": "python",
   "name": "python3"
  },
  "language_info": {
   "codemirror_mode": {
    "name": "ipython",
    "version": 3
   },
   "file_extension": ".py",
   "mimetype": "text/x-python",
   "name": "python",
   "nbconvert_exporter": "python",
   "pygments_lexer": "ipython3",
   "version": "3.8.8"
  }
 },
 "nbformat": 4,
 "nbformat_minor": 1
}
